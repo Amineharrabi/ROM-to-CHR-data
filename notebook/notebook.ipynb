{
 "cells": [
  {
   "cell_type": "markdown",
   "id": "7d841041",
   "metadata": {},
   "source": [
    "# NES Graphics Extraction, Dataset Building, and VAE Generation\n",
    "This notebook provides a complete workflow for extracting NES graphics tiles from ROMs, building datasets, parsing ROM headers, training and sampling with a VAE, and visualizing results. All code is ready to run and explained in detail."
   ]
  },
  {
   "cell_type": "markdown",
   "id": "790f4460",
   "metadata": {},
   "source": [
    "## 1. Setup & Imports\n",
    "Install required packages and import all necessary modules."
   ]
  },
  {
   "cell_type": "code",
   "execution_count": null,
   "id": "03eab8df",
   "metadata": {},
   "outputs": [],
   "source": [
    "# If needed, install missing packages (uncomment below)\n",
    "# !pip install numpy pandas pillow torch scikit-learn matplotlib tqdm\n",
    "import os\n",
    "import numpy as np\n",
    "import pandas as pd\n",
    "from PIL import Image\n",
    "import matplotlib.pyplot as plt\n",
    "from scripts.graphics_extractor import extract_chr_data, chr_to_tiles, tiles_to_images\n",
    "from scripts.DataSetBuilder import save_dataset\n",
    "from scripts.RomParse import parse_nes_header\n",
    "from scripts.vae_nes_tiles import build_palette, colorize_tile_from_palette, upscale, VAE"
   ]
  },
  {
   "cell_type": "markdown",
   "id": "b56dbbb5",
   "metadata": {},
   "source": [
    "## 2. Extract Tiles from NES ROMs\n",
    "Extract graphics tiles from all `.nes` files in the `roms/` folder and save them as PNG images in the `tiles/` folder."
   ]
  },
  {
   "cell_type": "code",
   "execution_count": null,
   "id": "6f8a38e2",
   "metadata": {},
   "outputs": [],
   "source": [
    "roms_dir = 'roms'\n",
    "out_dir = 'tiles'\n",
    "os.makedirs(out_dir, exist_ok=True)\n",
    "\n",
    "for fname in os.listdir(roms_dir):\n",
    "    if fname.lower().endswith('.nes'):\n",
    "        rom_path = os.path.join(roms_dir, fname)\n",
    "        try:\n",
    "            chr_data = extract_chr_data(rom_path)\n",
    "            tiles = chr_to_tiles(chr_data)\n",
    "            save_dataset(fname.replace('.nes',''), tiles, out_dir=out_dir)\n",
    "            print(f'Saved tiles for {fname}')\n",
    "        except Exception as e:\n",
    "            print(f'Error processing {fname}: {e}')"
   ]
  },
  {
   "cell_type": "markdown",
   "id": "c1c63a9c",
   "metadata": {},
   "source": [
    "## 3. Visualize Extracted Tiles\n",
    "Display a grid of extracted tiles from a selected ROM."
   ]
  },
  {
   "cell_type": "code",
   "execution_count": null,
   "id": "7b99606d",
   "metadata": {},
   "outputs": [],
   "source": [
    "rom_name = 'MicroMages'  # Change to any ROM name you have extracted\n",
    "tiles_csv = f'tiles/{rom_name}_dataset.csv'\n",
    "df = pd.read_csv(tiles_csv)\n",
    "tile_imgs = []\n",
    "for i, row in df.iterrows():\n",
    "    img = Image.open(row['image_path'])\n",
    "    tile_imgs.append(img)\n",
    "    if i >= 63: break  # Show first 64 tiles\n",
    "\n",
    "fig, axs = plt.subplots(8, 8, figsize=(8,8))\n",
    "for idx, ax in enumerate(axs.flatten()):\n",
    "    ax.imshow(tile_imgs[idx])\n",
    "    ax.axis('off')\n",
    "plt.suptitle(f'First 64 Tiles from {rom_name}')\n",
    "plt.show()"
   ]
  },
  {
   "cell_type": "markdown",
   "id": "ad72fe7c",
   "metadata": {},
   "source": [
    "## 4. Parse NES ROM Header\n",
    "Inspect the header of a NES ROM to get PRG/CHR sizes and mapper info."
   ]
  },
  {
   "cell_type": "code",
   "execution_count": null,
   "id": "a37e28cc",
   "metadata": {},
   "outputs": [],
   "source": [
    "rom_path = 'roms/MicroMages.nes'\n",
    "header = parse_nes_header(rom_path)\n",
    "print('NES ROM Header:', header)"
   ]
  },
  {
   "cell_type": "markdown",
   "id": "705b884d",
   "metadata": {},
   "source": [
    "## 5. Generate VAE Samples\n",
    "Use a trained VAE model to generate new NES tiles for each cluster/class. Set the checkpoint path, number of samples, and palette options."
   ]
  },
  {
   "cell_type": "code",
   "execution_count": null,
   "id": "d5e8c7e5",
   "metadata": {},
   "outputs": [],
   "source": [
    "ckpt = 'vae_checkpoint.pt'  # Path to your trained VAE .pt file\n",
    "out_dir = 'vae_out'\n",
    "num_samples = 16\n",
    "latent = 16\n",
    "num_classes = 40\n",
    "palette = 'RP2C04-0004'\n",
    "palette_map = [0,1,2,3]\n",
    "upscale_factor = 4\n",
    "cluster_id = 0\n",
    "\n",
    "device = 'cuda' if torch.cuda.is_available() else 'cpu'\n",
    "model = VAE(latent_dim=latent, conditional=True, num_classes=num_classes, emb_dim=4).to(device)\n",
    "model.load_state_dict(torch.load(ckpt, map_location=device))\n",
    "model.eval()\n",
    "\n",
    "palette64 = build_palette(palette)\n",
    "cluster_dir = os.path.join(out_dir, f'cluster{cluster_id:02d}')\n",
    "os.makedirs(cluster_dir, exist_ok=True)\n",
    "\n",
    "z = torch.randn(num_samples, latent).to(device)\n",
    "y_sample = torch.full((num_samples,), cluster_id, dtype=torch.long).to(device)\n",
    "samples = model.decode(z, y_sample)\n",
    "samples = torch.clamp(samples, 0, 1)\n",
    "samples = torch.round(samples * 3).long()\n",
    "\n",
    "vae_imgs = []\n",
    "for i in range(samples.size(0)):\n",
    "    tile = samples[i,0].cpu().numpy()\n",
    "    img = Image.fromarray(tile.astype(np.uint8), mode='L')\n",
    "    img = colorize_tile_from_palette(img, palette64, palette_map)\n",
    "    img = upscale(img, upscale_factor)\n",
    "    tile_path = os.path.join(cluster_dir, f'tile_{i:03d}.png')\n",
    "    img.save(tile_path)\n",
    "    vae_imgs.append(img)\n",
    "print(f'Saved {num_samples} tiles to {cluster_dir}')"
   ]
  },
  {
   "cell_type": "markdown",
   "id": "8587c4ec",
   "metadata": {},
   "source": [
    "## 6. Visualize VAE Generated Tiles\n",
    "Display a grid of generated tiles from the VAE model."
   ]
  },
  {
   "cell_type": "code",
   "execution_count": null,
   "id": "dafcd71a",
   "metadata": {},
   "outputs": [],
   "source": [
    "fig, axs = plt.subplots(4, 4, figsize=(8,8))\n",
    "for idx, ax in enumerate(axs.flatten()):\n",
    "    ax.imshow(vae_imgs[idx])\n",
    "    ax.axis('off')\n",
    "plt.suptitle('VAE Generated Tiles (Cluster 0)')\n",
    "plt.show()"
   ]
  },
  {
   "cell_type": "markdown",
   "id": "881b321a",
   "metadata": {},
   "source": [
    "---\n",
    "### End of Workflow\n",
    "You now have a complete pipeline for NES graphics extraction, dataset building, VAE sampling, and visualization. You can expand this notebook with more advanced clustering, palette selection, or model training as needed."
   ]
  }
 ],
 "metadata": {
  "language_info": {
   "name": "python"
  }
 },
 "nbformat": 4,
 "nbformat_minor": 5
}
